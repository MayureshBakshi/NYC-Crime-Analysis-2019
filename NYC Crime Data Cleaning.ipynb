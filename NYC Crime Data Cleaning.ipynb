{
 "cells": [
  {
   "cell_type": "code",
   "execution_count": 10,
   "metadata": {},
   "outputs": [
    {
     "name": "stdout",
     "output_type": "stream",
     "text": [
      "Libraries Imported!\n"
     ]
    }
   ],
   "source": [
    "import pandas as pd\n",
    "import numpy as np\n",
    "print('Libraries Imported!')"
   ]
  },
  {
   "cell_type": "code",
   "execution_count": 12,
   "metadata": {},
   "outputs": [],
   "source": [
    "## Original Data file link - https://data.cityofnewyork.us/Public-Safety/NYPD-Complaint-Data-Historic/qgea-i56i\n",
    "\n",
    "## Load downloaded file to a pandas dataframe\n",
    "crime_data = pd.read_csv(\"NYPD_Complaint_Data_Historic.csv\")"
   ]
  },
  {
   "cell_type": "code",
   "execution_count": 13,
   "metadata": {},
   "outputs": [
    {
     "data": {
      "text/html": [
       "<div>\n",
       "<style scoped>\n",
       "    .dataframe tbody tr th:only-of-type {\n",
       "        vertical-align: middle;\n",
       "    }\n",
       "\n",
       "    .dataframe tbody tr th {\n",
       "        vertical-align: top;\n",
       "    }\n",
       "\n",
       "    .dataframe thead th {\n",
       "        text-align: right;\n",
       "    }\n",
       "</style>\n",
       "<table border=\"1\" class=\"dataframe\">\n",
       "  <thead>\n",
       "    <tr style=\"text-align: right;\">\n",
       "      <th></th>\n",
       "      <th>CMPLNT_NUM</th>\n",
       "      <th>CMPLNT_FR_DT</th>\n",
       "      <th>CMPLNT_FR_TM</th>\n",
       "      <th>CMPLNT_TO_DT</th>\n",
       "      <th>CMPLNT_TO_TM</th>\n",
       "      <th>ADDR_PCT_CD</th>\n",
       "      <th>RPT_DT</th>\n",
       "      <th>KY_CD</th>\n",
       "      <th>OFNS_DESC</th>\n",
       "      <th>PD_CD</th>\n",
       "      <th>PD_DESC</th>\n",
       "      <th>CRM_ATPT_CPTD_CD</th>\n",
       "      <th>LAW_CAT_CD</th>\n",
       "      <th>BORO_NM</th>\n",
       "      <th>LOC_OF_OCCUR_DESC</th>\n",
       "      <th>PREM_TYP_DESC</th>\n",
       "      <th>JURIS_DESC</th>\n",
       "      <th>JURISDICTION_CODE</th>\n",
       "      <th>PARKS_NM</th>\n",
       "      <th>HADEVELOPT</th>\n",
       "      <th>HOUSING_PSA</th>\n",
       "      <th>X_COORD_CD</th>\n",
       "      <th>Y_COORD_CD</th>\n",
       "      <th>SUSP_AGE_GROUP</th>\n",
       "      <th>SUSP_RACE</th>\n",
       "      <th>SUSP_SEX</th>\n",
       "      <th>TRANSIT_DISTRICT</th>\n",
       "      <th>Latitude</th>\n",
       "      <th>Longitude</th>\n",
       "      <th>Lat_Lon</th>\n",
       "      <th>PATROL_BORO</th>\n",
       "      <th>STATION_NAME</th>\n",
       "      <th>VIC_AGE_GROUP</th>\n",
       "      <th>VIC_RACE</th>\n",
       "      <th>VIC_SEX</th>\n",
       "    </tr>\n",
       "  </thead>\n",
       "  <tbody>\n",
       "    <tr>\n",
       "      <th>0</th>\n",
       "      <td>522575447</td>\n",
       "      <td>08/29/2006</td>\n",
       "      <td>13:00:00</td>\n",
       "      <td>NaN</td>\n",
       "      <td>NaN</td>\n",
       "      <td>43.0</td>\n",
       "      <td>08/30/2006</td>\n",
       "      <td>578</td>\n",
       "      <td>HARRASSMENT 2</td>\n",
       "      <td>638.0</td>\n",
       "      <td>HARASSMENT,SUBD 3,4,5</td>\n",
       "      <td>COMPLETED</td>\n",
       "      <td>VIOLATION</td>\n",
       "      <td>BRONX</td>\n",
       "      <td>INSIDE</td>\n",
       "      <td>RESIDENCE - APT. HOUSE</td>\n",
       "      <td>N.Y. POLICE DEPT</td>\n",
       "      <td>0.0</td>\n",
       "      <td>NaN</td>\n",
       "      <td>NaN</td>\n",
       "      <td>NaN</td>\n",
       "      <td>1018029.0</td>\n",
       "      <td>240747.0</td>\n",
       "      <td>NaN</td>\n",
       "      <td>UNKNOWN</td>\n",
       "      <td>M</td>\n",
       "      <td>NaN</td>\n",
       "      <td>40.827414</td>\n",
       "      <td>-73.877946</td>\n",
       "      <td>(40.827414051, -73.877945775)</td>\n",
       "      <td>PATROL BORO BRONX</td>\n",
       "      <td>NaN</td>\n",
       "      <td>25-44</td>\n",
       "      <td>BLACK HISPANIC</td>\n",
       "      <td>F</td>\n",
       "    </tr>\n",
       "    <tr>\n",
       "      <th>1</th>\n",
       "      <td>403507361</td>\n",
       "      <td>11/05/2006</td>\n",
       "      <td>11:00:00</td>\n",
       "      <td>11/05/2006</td>\n",
       "      <td>17:40:00</td>\n",
       "      <td>66.0</td>\n",
       "      <td>11/05/2006</td>\n",
       "      <td>107</td>\n",
       "      <td>BURGLARY</td>\n",
       "      <td>221.0</td>\n",
       "      <td>BURGLARY,RESIDENCE,DAY</td>\n",
       "      <td>COMPLETED</td>\n",
       "      <td>FELONY</td>\n",
       "      <td>BROOKLYN</td>\n",
       "      <td>INSIDE</td>\n",
       "      <td>RESIDENCE - APT. HOUSE</td>\n",
       "      <td>N.Y. POLICE DEPT</td>\n",
       "      <td>0.0</td>\n",
       "      <td>NaN</td>\n",
       "      <td>NaN</td>\n",
       "      <td>NaN</td>\n",
       "      <td>982556.0</td>\n",
       "      <td>171385.0</td>\n",
       "      <td>NaN</td>\n",
       "      <td>NaN</td>\n",
       "      <td>NaN</td>\n",
       "      <td>NaN</td>\n",
       "      <td>40.637097</td>\n",
       "      <td>-74.006105</td>\n",
       "      <td>(40.637096864, -74.006105014)</td>\n",
       "      <td>PATROL BORO BKLYN SOUTH</td>\n",
       "      <td>NaN</td>\n",
       "      <td>45-64</td>\n",
       "      <td>ASIAN / PACIFIC ISLANDER</td>\n",
       "      <td>F</td>\n",
       "    </tr>\n",
       "    <tr>\n",
       "      <th>2</th>\n",
       "      <td>631420068</td>\n",
       "      <td>09/08/2006</td>\n",
       "      <td>23:30:00</td>\n",
       "      <td>09/09/2006</td>\n",
       "      <td>00:01:00</td>\n",
       "      <td>106.0</td>\n",
       "      <td>09/09/2006</td>\n",
       "      <td>347</td>\n",
       "      <td>INTOXICATED &amp; IMPAIRED DRIVING</td>\n",
       "      <td>905.0</td>\n",
       "      <td>INTOXICATED DRIVING,ALCOHOL</td>\n",
       "      <td>COMPLETED</td>\n",
       "      <td>MISDEMEANOR</td>\n",
       "      <td>QUEENS</td>\n",
       "      <td>FRONT OF</td>\n",
       "      <td>STREET</td>\n",
       "      <td>N.Y. POLICE DEPT</td>\n",
       "      <td>0.0</td>\n",
       "      <td>NaN</td>\n",
       "      <td>NaN</td>\n",
       "      <td>NaN</td>\n",
       "      <td>1028213.0</td>\n",
       "      <td>186786.0</td>\n",
       "      <td>NaN</td>\n",
       "      <td>NaN</td>\n",
       "      <td>NaN</td>\n",
       "      <td>NaN</td>\n",
       "      <td>40.679260</td>\n",
       "      <td>-73.841500</td>\n",
       "      <td>(40.679260229, -73.841500185)</td>\n",
       "      <td>PATROL BORO QUEENS SOUTH</td>\n",
       "      <td>NaN</td>\n",
       "      <td>NaN</td>\n",
       "      <td>UNKNOWN</td>\n",
       "      <td>E</td>\n",
       "    </tr>\n",
       "    <tr>\n",
       "      <th>3</th>\n",
       "      <td>995609899</td>\n",
       "      <td>12/13/2011</td>\n",
       "      <td>18:40:00</td>\n",
       "      <td>12/13/2011</td>\n",
       "      <td>18:49:00</td>\n",
       "      <td>79.0</td>\n",
       "      <td>12/13/2011</td>\n",
       "      <td>341</td>\n",
       "      <td>PETIT LARCENY</td>\n",
       "      <td>333.0</td>\n",
       "      <td>LARCENY,PETIT FROM STORE-SHOPL</td>\n",
       "      <td>COMPLETED</td>\n",
       "      <td>MISDEMEANOR</td>\n",
       "      <td>BROOKLYN</td>\n",
       "      <td>INSIDE</td>\n",
       "      <td>CHAIN STORE</td>\n",
       "      <td>N.Y. POLICE DEPT</td>\n",
       "      <td>0.0</td>\n",
       "      <td>NaN</td>\n",
       "      <td>NaN</td>\n",
       "      <td>NaN</td>\n",
       "      <td>1000788.0</td>\n",
       "      <td>189718.0</td>\n",
       "      <td>NaN</td>\n",
       "      <td>NaN</td>\n",
       "      <td>NaN</td>\n",
       "      <td>NaN</td>\n",
       "      <td>40.687402</td>\n",
       "      <td>-73.940369</td>\n",
       "      <td>(40.687401619, -73.940369194)</td>\n",
       "      <td>PATROL BORO BKLYN NORTH</td>\n",
       "      <td>NaN</td>\n",
       "      <td>NaN</td>\n",
       "      <td>UNKNOWN</td>\n",
       "      <td>D</td>\n",
       "    </tr>\n",
       "    <tr>\n",
       "      <th>4</th>\n",
       "      <td>480667624</td>\n",
       "      <td>08/14/2009</td>\n",
       "      <td>04:20:00</td>\n",
       "      <td>NaN</td>\n",
       "      <td>NaN</td>\n",
       "      <td>30.0</td>\n",
       "      <td>08/14/2009</td>\n",
       "      <td>113</td>\n",
       "      <td>FORGERY</td>\n",
       "      <td>729.0</td>\n",
       "      <td>FORGERY,ETC.,UNCLASSIFIED-FELO</td>\n",
       "      <td>COMPLETED</td>\n",
       "      <td>FELONY</td>\n",
       "      <td>MANHATTAN</td>\n",
       "      <td>NaN</td>\n",
       "      <td>STREET</td>\n",
       "      <td>N.Y. POLICE DEPT</td>\n",
       "      <td>0.0</td>\n",
       "      <td>NaN</td>\n",
       "      <td>NaN</td>\n",
       "      <td>NaN</td>\n",
       "      <td>1000029.0</td>\n",
       "      <td>242245.0</td>\n",
       "      <td>NaN</td>\n",
       "      <td>NaN</td>\n",
       "      <td>NaN</td>\n",
       "      <td>NaN</td>\n",
       "      <td>40.831576</td>\n",
       "      <td>-73.942983</td>\n",
       "      <td>(40.831576128, -73.942982699)</td>\n",
       "      <td>PATROL BORO MAN NORTH</td>\n",
       "      <td>NaN</td>\n",
       "      <td>NaN</td>\n",
       "      <td>UNKNOWN</td>\n",
       "      <td>E</td>\n",
       "    </tr>\n",
       "  </tbody>\n",
       "</table>\n",
       "</div>"
      ],
      "text/plain": [
       "   CMPLNT_NUM CMPLNT_FR_DT CMPLNT_FR_TM CMPLNT_TO_DT CMPLNT_TO_TM  \\\n",
       "0   522575447   08/29/2006     13:00:00          NaN          NaN   \n",
       "1   403507361   11/05/2006     11:00:00   11/05/2006     17:40:00   \n",
       "2   631420068   09/08/2006     23:30:00   09/09/2006     00:01:00   \n",
       "3   995609899   12/13/2011     18:40:00   12/13/2011     18:49:00   \n",
       "4   480667624   08/14/2009     04:20:00          NaN          NaN   \n",
       "\n",
       "   ADDR_PCT_CD      RPT_DT  KY_CD                       OFNS_DESC  PD_CD  \\\n",
       "0         43.0  08/30/2006    578                   HARRASSMENT 2  638.0   \n",
       "1         66.0  11/05/2006    107                        BURGLARY  221.0   \n",
       "2        106.0  09/09/2006    347  INTOXICATED & IMPAIRED DRIVING  905.0   \n",
       "3         79.0  12/13/2011    341                   PETIT LARCENY  333.0   \n",
       "4         30.0  08/14/2009    113                         FORGERY  729.0   \n",
       "\n",
       "                          PD_DESC CRM_ATPT_CPTD_CD   LAW_CAT_CD    BORO_NM  \\\n",
       "0           HARASSMENT,SUBD 3,4,5        COMPLETED    VIOLATION      BRONX   \n",
       "1          BURGLARY,RESIDENCE,DAY        COMPLETED       FELONY   BROOKLYN   \n",
       "2     INTOXICATED DRIVING,ALCOHOL        COMPLETED  MISDEMEANOR     QUEENS   \n",
       "3  LARCENY,PETIT FROM STORE-SHOPL        COMPLETED  MISDEMEANOR   BROOKLYN   \n",
       "4  FORGERY,ETC.,UNCLASSIFIED-FELO        COMPLETED       FELONY  MANHATTAN   \n",
       "\n",
       "  LOC_OF_OCCUR_DESC           PREM_TYP_DESC        JURIS_DESC  \\\n",
       "0            INSIDE  RESIDENCE - APT. HOUSE  N.Y. POLICE DEPT   \n",
       "1            INSIDE  RESIDENCE - APT. HOUSE  N.Y. POLICE DEPT   \n",
       "2          FRONT OF                  STREET  N.Y. POLICE DEPT   \n",
       "3            INSIDE             CHAIN STORE  N.Y. POLICE DEPT   \n",
       "4               NaN                  STREET  N.Y. POLICE DEPT   \n",
       "\n",
       "   JURISDICTION_CODE PARKS_NM HADEVELOPT HOUSING_PSA  X_COORD_CD  Y_COORD_CD  \\\n",
       "0                0.0      NaN        NaN         NaN   1018029.0    240747.0   \n",
       "1                0.0      NaN        NaN         NaN    982556.0    171385.0   \n",
       "2                0.0      NaN        NaN         NaN   1028213.0    186786.0   \n",
       "3                0.0      NaN        NaN         NaN   1000788.0    189718.0   \n",
       "4                0.0      NaN        NaN         NaN   1000029.0    242245.0   \n",
       "\n",
       "  SUSP_AGE_GROUP SUSP_RACE SUSP_SEX  TRANSIT_DISTRICT   Latitude  Longitude  \\\n",
       "0            NaN   UNKNOWN        M               NaN  40.827414 -73.877946   \n",
       "1            NaN       NaN      NaN               NaN  40.637097 -74.006105   \n",
       "2            NaN       NaN      NaN               NaN  40.679260 -73.841500   \n",
       "3            NaN       NaN      NaN               NaN  40.687402 -73.940369   \n",
       "4            NaN       NaN      NaN               NaN  40.831576 -73.942983   \n",
       "\n",
       "                         Lat_Lon               PATROL_BORO STATION_NAME  \\\n",
       "0  (40.827414051, -73.877945775)         PATROL BORO BRONX          NaN   \n",
       "1  (40.637096864, -74.006105014)   PATROL BORO BKLYN SOUTH          NaN   \n",
       "2  (40.679260229, -73.841500185)  PATROL BORO QUEENS SOUTH          NaN   \n",
       "3  (40.687401619, -73.940369194)   PATROL BORO BKLYN NORTH          NaN   \n",
       "4  (40.831576128, -73.942982699)     PATROL BORO MAN NORTH          NaN   \n",
       "\n",
       "  VIC_AGE_GROUP                  VIC_RACE VIC_SEX  \n",
       "0         25-44            BLACK HISPANIC       F  \n",
       "1         45-64  ASIAN / PACIFIC ISLANDER       F  \n",
       "2           NaN                   UNKNOWN       E  \n",
       "3           NaN                   UNKNOWN       D  \n",
       "4           NaN                   UNKNOWN       E  "
      ]
     },
     "execution_count": 13,
     "metadata": {},
     "output_type": "execute_result"
    }
   ],
   "source": [
    "## To display all columns \n",
    "from IPython.display import display\n",
    "pd.set_option('display.max_columns', None)\n",
    "\n",
    "## View first 10 rows\n",
    "crime_data.head()"
   ]
  },
  {
   "cell_type": "code",
   "execution_count": 15,
   "metadata": {},
   "outputs": [
    {
     "data": {
      "text/plain": [
       "(7309655, 35)"
      ]
     },
     "execution_count": 15,
     "metadata": {},
     "output_type": "execute_result"
    }
   ],
   "source": [
    "## Just to get a rough idea, let's check the number of rows in this dataset\n",
    "## Note: This contains historic data from year 2006 \n",
    "crime_data.shape"
   ]
  },
  {
   "cell_type": "code",
   "execution_count": 16,
   "metadata": {},
   "outputs": [
    {
     "data": {
      "text/plain": [
       "Index(['CMPLNT_NUM', 'CMPLNT_FR_DT', 'CMPLNT_FR_TM', 'CMPLNT_TO_DT',\n",
       "       'CMPLNT_TO_TM', 'ADDR_PCT_CD', 'RPT_DT', 'KY_CD', 'OFNS_DESC', 'PD_CD',\n",
       "       'PD_DESC', 'CRM_ATPT_CPTD_CD', 'LAW_CAT_CD', 'BORO_NM',\n",
       "       'LOC_OF_OCCUR_DESC', 'PREM_TYP_DESC', 'JURIS_DESC', 'JURISDICTION_CODE',\n",
       "       'PARKS_NM', 'HADEVELOPT', 'HOUSING_PSA', 'X_COORD_CD', 'Y_COORD_CD',\n",
       "       'SUSP_AGE_GROUP', 'SUSP_RACE', 'SUSP_SEX', 'TRANSIT_DISTRICT',\n",
       "       'Latitude', 'Longitude', 'Lat_Lon', 'PATROL_BORO', 'STATION_NAME',\n",
       "       'VIC_AGE_GROUP', 'VIC_RACE', 'VIC_SEX'],\n",
       "      dtype='object')"
      ]
     },
     "execution_count": 16,
     "metadata": {},
     "output_type": "execute_result"
    }
   ],
   "source": [
    "## View all column names \n",
    "crime_data.columns "
   ]
  },
  {
   "cell_type": "code",
   "execution_count": 17,
   "metadata": {},
   "outputs": [
    {
     "data": {
      "text/plain": [
       "['CMPLNT_FR_TM',\n",
       " 'CMPLNT_TO_DT',\n",
       " 'CMPLNT_TO_TM',\n",
       " 'ADDR_PCT_CD',\n",
       " 'RPT_DT',\n",
       " 'KY_CD',\n",
       " 'PD_CD',\n",
       " 'PD_DESC',\n",
       " 'LOC_OF_OCCUR_DESC',\n",
       " 'PREM_TYP_DESC',\n",
       " 'JURIS_DESC',\n",
       " 'JURISDICTION_CODE',\n",
       " 'PARKS_NM',\n",
       " 'HADEVELOPT',\n",
       " 'HOUSING_PSA',\n",
       " 'SUSP_AGE_GROUP',\n",
       " 'SUSP_RACE',\n",
       " 'SUSP_SEX',\n",
       " 'TRANSIT_DISTRICT',\n",
       " 'PATROL_BORO',\n",
       " 'VIC_AGE_GROUP',\n",
       " 'VIC_RACE',\n",
       " 'VIC_SEX']"
      ]
     },
     "execution_count": 17,
     "metadata": {},
     "output_type": "execute_result"
    }
   ],
   "source": [
    "## Create a list of cloumns to drop\n",
    "old_columns = crime_data.columns \n",
    "\n",
    "new_df_columns =  ['CMPLNT_NUM', 'CMPLNT_FR_DT', 'OFNS_DESC','CRM_ATPT_CPTD_CD', 'LAW_CAT_CD', 'BORO_NM', 'X_COORD_CD', 'Y_COORD_CD','Latitude', 'Longitude', 'Lat_Lon', 'STATION_NAME']\n",
    "\n",
    "drop_columns = [item for item in old_columns if item not in new_df_columns]\n",
    "\n",
    "drop_columns"
   ]
  },
  {
   "cell_type": "code",
   "execution_count": 18,
   "metadata": {},
   "outputs": [],
   "source": [
    "## Drop unnecessary columns\n",
    "clean_crime_data = crime_data.drop(drop_columns, axis=1)"
   ]
  },
  {
   "cell_type": "code",
   "execution_count": 19,
   "metadata": {},
   "outputs": [
    {
     "data": {
      "text/plain": [
       "(7309655, 12)"
      ]
     },
     "execution_count": 19,
     "metadata": {},
     "output_type": "execute_result"
    }
   ],
   "source": [
    "clean_crime_data.shape ## Reduced columns from 35 to 12"
   ]
  },
  {
   "cell_type": "code",
   "execution_count": 20,
   "metadata": {},
   "outputs": [],
   "source": [
    "## Drop NaN rows\n",
    "clean_crime_data = clean_crime_data.dropna()"
   ]
  },
  {
   "cell_type": "code",
   "execution_count": 21,
   "metadata": {},
   "outputs": [
    {
     "data": {
      "text/plain": [
       "(153967, 12)"
      ]
     },
     "execution_count": 21,
     "metadata": {},
     "output_type": "execute_result"
    }
   ],
   "source": [
    "clean_crime_data.shape"
   ]
  },
  {
   "cell_type": "code",
   "execution_count": 23,
   "metadata": {},
   "outputs": [],
   "source": [
    "## Filtering out only for 2019\n",
    "clean_crime_data = clean_crime_data[clean_crime_data['CMPLNT_FR_DT'].str.contains(\"2019\") == True]"
   ]
  },
  {
   "cell_type": "code",
   "execution_count": 24,
   "metadata": {},
   "outputs": [
    {
     "data": {
      "text/plain": [
       "(12406, 12)"
      ]
     },
     "execution_count": 24,
     "metadata": {},
     "output_type": "execute_result"
    }
   ],
   "source": [
    "clean_crime_data.shape"
   ]
  },
  {
   "cell_type": "code",
   "execution_count": 32,
   "metadata": {},
   "outputs": [
    {
     "data": {
      "text/html": [
       "<div>\n",
       "<style scoped>\n",
       "    .dataframe tbody tr th:only-of-type {\n",
       "        vertical-align: middle;\n",
       "    }\n",
       "\n",
       "    .dataframe tbody tr th {\n",
       "        vertical-align: top;\n",
       "    }\n",
       "\n",
       "    .dataframe thead th {\n",
       "        text-align: right;\n",
       "    }\n",
       "</style>\n",
       "<table border=\"1\" class=\"dataframe\">\n",
       "  <thead>\n",
       "    <tr style=\"text-align: right;\">\n",
       "      <th></th>\n",
       "      <th>CMPLNT_NUM</th>\n",
       "      <th>CMPLNT_FR_DT</th>\n",
       "      <th>OFNS_DESC</th>\n",
       "      <th>CRM_ATPT_CPTD_CD</th>\n",
       "      <th>LAW_CAT_CD</th>\n",
       "      <th>BORO_NM</th>\n",
       "      <th>X_COORD_CD</th>\n",
       "      <th>Y_COORD_CD</th>\n",
       "      <th>Latitude</th>\n",
       "      <th>Longitude</th>\n",
       "      <th>Lat_Lon</th>\n",
       "      <th>STATION_NAME</th>\n",
       "    </tr>\n",
       "  </thead>\n",
       "  <tbody>\n",
       "    <tr>\n",
       "      <th>3489167</th>\n",
       "      <td>730889540</td>\n",
       "      <td>12/26/2019</td>\n",
       "      <td>FORGERY</td>\n",
       "      <td>COMPLETED</td>\n",
       "      <td>FELONY</td>\n",
       "      <td>BROOKLYN</td>\n",
       "      <td>987772.0</td>\n",
       "      <td>191476.0</td>\n",
       "      <td>40.692242</td>\n",
       "      <td>-73.987301</td>\n",
       "      <td>(40.69224167400005, -73.987300996)</td>\n",
       "      <td>JAY STREET-BOROUGH HALL</td>\n",
       "    </tr>\n",
       "    <tr>\n",
       "      <th>3489255</th>\n",
       "      <td>606107651</td>\n",
       "      <td>12/29/2019</td>\n",
       "      <td>ROBBERY</td>\n",
       "      <td>COMPLETED</td>\n",
       "      <td>FELONY</td>\n",
       "      <td>BRONX</td>\n",
       "      <td>1020937.0</td>\n",
       "      <td>254605.0</td>\n",
       "      <td>40.865439</td>\n",
       "      <td>-73.867362</td>\n",
       "      <td>(40.86543854800004, -73.86736232099996)</td>\n",
       "      <td>ALLERTON AVENUE</td>\n",
       "    </tr>\n",
       "    <tr>\n",
       "      <th>3489277</th>\n",
       "      <td>522961469</td>\n",
       "      <td>12/27/2019</td>\n",
       "      <td>PETIT LARCENY</td>\n",
       "      <td>COMPLETED</td>\n",
       "      <td>MISDEMEANOR</td>\n",
       "      <td>MANHATTAN</td>\n",
       "      <td>988757.0</td>\n",
       "      <td>216332.0</td>\n",
       "      <td>40.760465</td>\n",
       "      <td>-73.983732</td>\n",
       "      <td>(40.760464910000046, -73.98373241099996)</td>\n",
       "      <td>49 STREET</td>\n",
       "    </tr>\n",
       "    <tr>\n",
       "      <th>3489340</th>\n",
       "      <td>860501657</td>\n",
       "      <td>12/26/2019</td>\n",
       "      <td>FORGERY</td>\n",
       "      <td>COMPLETED</td>\n",
       "      <td>FELONY</td>\n",
       "      <td>BRONX</td>\n",
       "      <td>1011485.0</td>\n",
       "      <td>237929.0</td>\n",
       "      <td>40.819702</td>\n",
       "      <td>-73.901603</td>\n",
       "      <td>(40.819702045000035, -73.90160301699996)</td>\n",
       "      <td>PROSPECT AVENUE</td>\n",
       "    </tr>\n",
       "    <tr>\n",
       "      <th>3489398</th>\n",
       "      <td>249535524</td>\n",
       "      <td>12/26/2019</td>\n",
       "      <td>GRAND LARCENY</td>\n",
       "      <td>COMPLETED</td>\n",
       "      <td>FELONY</td>\n",
       "      <td>MANHATTAN</td>\n",
       "      <td>990886.0</td>\n",
       "      <td>213048.0</td>\n",
       "      <td>40.751450</td>\n",
       "      <td>-73.976051</td>\n",
       "      <td>(40.751449824000076, -73.97605054499998)</td>\n",
       "      <td>42 ST.-GRAND CENTRAL</td>\n",
       "    </tr>\n",
       "  </tbody>\n",
       "</table>\n",
       "</div>"
      ],
      "text/plain": [
       "         CMPLNT_NUM CMPLNT_FR_DT      OFNS_DESC CRM_ATPT_CPTD_CD   LAW_CAT_CD  \\\n",
       "3489167   730889540   12/26/2019        FORGERY        COMPLETED       FELONY   \n",
       "3489255   606107651   12/29/2019        ROBBERY        COMPLETED       FELONY   \n",
       "3489277   522961469   12/27/2019  PETIT LARCENY        COMPLETED  MISDEMEANOR   \n",
       "3489340   860501657   12/26/2019        FORGERY        COMPLETED       FELONY   \n",
       "3489398   249535524   12/26/2019  GRAND LARCENY        COMPLETED       FELONY   \n",
       "\n",
       "           BORO_NM  X_COORD_CD  Y_COORD_CD   Latitude  Longitude  \\\n",
       "3489167   BROOKLYN    987772.0    191476.0  40.692242 -73.987301   \n",
       "3489255      BRONX   1020937.0    254605.0  40.865439 -73.867362   \n",
       "3489277  MANHATTAN    988757.0    216332.0  40.760465 -73.983732   \n",
       "3489340      BRONX   1011485.0    237929.0  40.819702 -73.901603   \n",
       "3489398  MANHATTAN    990886.0    213048.0  40.751450 -73.976051   \n",
       "\n",
       "                                          Lat_Lon             STATION_NAME  \n",
       "3489167        (40.69224167400005, -73.987300996)  JAY STREET-BOROUGH HALL  \n",
       "3489255   (40.86543854800004, -73.86736232099996)          ALLERTON AVENUE  \n",
       "3489277  (40.760464910000046, -73.98373241099996)                49 STREET  \n",
       "3489340  (40.819702045000035, -73.90160301699996)          PROSPECT AVENUE  \n",
       "3489398  (40.751449824000076, -73.97605054499998)     42 ST.-GRAND CENTRAL  "
      ]
     },
     "execution_count": 32,
     "metadata": {},
     "output_type": "execute_result"
    }
   ],
   "source": [
    "clean_crime_data.head()"
   ]
  },
  {
   "cell_type": "code",
   "execution_count": 31,
   "metadata": {},
   "outputs": [
    {
     "name": "stdout",
     "output_type": "stream",
     "text": [
      "Exported clean data to CSV file\n"
     ]
    }
   ],
   "source": [
    "clean_crime_data.to_csv('nyc_crime_2019_clean.csv')\n",
    "print('Exported clean data to CSV file')"
   ]
  }
 ],
 "metadata": {
  "kernelspec": {
   "display_name": "Python 3",
   "language": "python",
   "name": "python3"
  },
  "language_info": {
   "codemirror_mode": {
    "name": "ipython",
    "version": 3
   },
   "file_extension": ".py",
   "mimetype": "text/x-python",
   "name": "python",
   "nbconvert_exporter": "python",
   "pygments_lexer": "ipython3",
   "version": "3.7.3"
  }
 },
 "nbformat": 4,
 "nbformat_minor": 2
}
